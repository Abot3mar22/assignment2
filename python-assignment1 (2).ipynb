{
  "metadata": {
    "kernelspec": {
      "name": "python",
      "display_name": "Python (Pyodide)",
      "language": "python"
    },
    "language_info": {
      "codemirror_mode": {
        "name": "python",
        "version": 3
      },
      "file_extension": ".py",
      "mimetype": "text/x-python",
      "name": "python",
      "nbconvert_exporter": "python",
      "pygments_lexer": "ipython3",
      "version": "3.8"
    }
  },
  "nbformat_minor": 4,
  "nbformat": 4,
  "cells": [
    {
      "cell_type": "markdown",
      "source": "## Exercises\n\nAnswer the questions or complete the tasks outlined in bold below, use the specific method described if applicable.",
      "metadata": {}
    },
    {
      "cell_type": "markdown",
      "source": "** What is 7 to the power of 4?**",
      "metadata": {}
    },
    {
      "cell_type": "code",
      "source": "x = 7 ** 4\nprint(x)",
      "metadata": {
        "trusted": true
      },
      "outputs": [
        {
          "name": "stdout",
          "text": "2401\n",
          "output_type": "stream"
        }
      ],
      "execution_count": 2
    },
    {
      "cell_type": "markdown",
      "source": "** Split this string:**\n\n    s = \"Hi there Sam!\"\n    \n**into a list. **",
      "metadata": {}
    },
    {
      "cell_type": "code",
      "source": "    s = \"Hi there Sam !\"\n    split_result = s.split()\n    print(split_result)",
      "metadata": {
        "trusted": true
      },
      "outputs": [
        {
          "name": "stdout",
          "text": "['Hi', 'there', 'Sam', '!']\n",
          "output_type": "stream"
        }
      ],
      "execution_count": 1
    },
    {
      "cell_type": "code",
      "source": "",
      "metadata": {
        "trusted": true
      },
      "outputs": [],
      "execution_count": null
    },
    {
      "cell_type": "markdown",
      "source": "** Given the variables:**\n\n    planet = \"Earth\"\n    diameter = 12742\n\n** Use .format() to print the following string: **\n\n    The diameter of Earth is 12742 kilometers.",
      "metadata": {}
    },
    {
      "cell_type": "code",
      "source": "planet = \"Earth\"\ndiameter = 12742\n\nprint(\"The diameter of {} is {} kilometers.\".format(planet, diameter))\n",
      "metadata": {
        "trusted": true
      },
      "outputs": [
        {
          "name": "stdout",
          "text": "The diameter of Earth is 12742 kilometers.\n",
          "output_type": "stream"
        }
      ],
      "execution_count": 3
    },
    {
      "cell_type": "markdown",
      "source": "** Given this nested list, use indexing to grab the word \"hello\" **",
      "metadata": {}
    },
    {
      "cell_type": "code",
      "source": "lst = [1,2,[3,4],[5,[100,200,['hello']],23,11],1,7]",
      "metadata": {
        "collapsed": true,
        "jupyter": {
          "outputs_hidden": true
        }
      },
      "outputs": [],
      "execution_count": 7
    },
    {
      "cell_type": "code",
      "source": "lst = [1,2,[3,4],[5,[100,200,['hello']],23,11],1,7]\nhello = lst[3][1][2][0]\nprint(hello)\n",
      "metadata": {
        "trusted": true
      },
      "outputs": [
        {
          "name": "stdout",
          "text": "hello\n",
          "output_type": "stream"
        }
      ],
      "execution_count": 4
    },
    {
      "cell_type": "markdown",
      "source": "** Given this nested dictionary grab the word \"hello\". Be prepared, this will be annoying/tricky **",
      "metadata": {}
    },
    {
      "cell_type": "code",
      "source": "d = {'k1': [1, 2, 3, {'tricky': ['oh', 'man', 'inception', {'target': [1, 2, 3, 'hello']}]}]}\nhello = d['k1'][3]['tricky'][3]['target'][3]\nprint(hello)\n",
      "metadata": {
        "trusted": true
      },
      "outputs": [
        {
          "name": "stdout",
          "text": "hello\n",
          "output_type": "stream"
        }
      ],
      "execution_count": 5
    },
    {
      "cell_type": "markdown",
      "source": "** What is the main difference between a tuple and a list? **",
      "metadata": {}
    },
    {
      "cell_type": "code",
      "source": "# Tuple is immutable",
      "metadata": {
        "collapsed": true,
        "jupyter": {
          "outputs_hidden": true
        }
      },
      "outputs": [],
      "execution_count": 23
    },
    {
      "cell_type": "markdown",
      "source": "** Create a function that grabs the email website domain from a string in the form: **\n\n    user@domain.com\n    \n**So for example, passing \"user@domain.com\" would return: domain.com**",
      "metadata": {}
    },
    {
      "cell_type": "code",
      "source": "",
      "metadata": {
        "collapsed": true,
        "jupyter": {
          "outputs_hidden": true
        }
      },
      "outputs": [],
      "execution_count": 24
    },
    {
      "cell_type": "code",
      "source": "def domainGet(email):\n    return email.split('@')[1]\n\nprint(domainGet('user@gmail.com'))\n",
      "metadata": {
        "trusted": true
      },
      "outputs": [
        {
          "name": "stdout",
          "text": "gmail.com\n",
          "output_type": "stream"
        }
      ],
      "execution_count": 12
    },
    {
      "cell_type": "markdown",
      "source": "** Create a basic function that returns True if the word 'dog' is contained in the input string. Don't worry about edge cases like a punctuation being attached to the word dog, but do account for capitalization. **",
      "metadata": {}
    },
    {
      "cell_type": "code",
      "source": "sentence = 'Is there a dog here?'\ndef findDog(sentence):\n    if 'dog' in sentence.lower():\n        return True\n    else:\n        return False\n        \nprint(findDog(sentence))\n",
      "metadata": {
        "trusted": true
      },
      "outputs": [
        {
          "name": "stdout",
          "text": "True\n",
          "output_type": "stream"
        }
      ],
      "execution_count": 22
    },
    {
      "cell_type": "markdown",
      "source": "** Create a function that counts the number of times the word \"dog\" occurs in a string. Again ignore edge cases. **",
      "metadata": {}
    },
    {
      "cell_type": "code",
      "source": "sentence = 'This dog runs faster than the other dog dude!'\ndef countDog(sentence):\n    count = 0\n    words = sentence.split()\n    for word in words:\n        if word == 'dog' or word == 'Dog':\n            count += 1 \n    return count\n\nprint(countDog(sentence))\n",
      "metadata": {
        "trusted": true
      },
      "outputs": [
        {
          "name": "stdout",
          "text": "2\n",
          "output_type": "stream"
        }
      ],
      "execution_count": 23
    },
    {
      "cell_type": "markdown",
      "source": "** Use lambda expressions and the filter() function to filter out words from a list that don't start with the letter 's'. For example:**\n\n    seq = ['soup','dog','salad','cat','great']\n\n**should be filtered down to:**\n\n    ['soup','salad']",
      "metadata": {}
    },
    {
      "cell_type": "code",
      "source": "seq = ['soup','dog','salad','cat','great']",
      "metadata": {
        "collapsed": true,
        "jupyter": {
          "outputs_hidden": true
        }
      },
      "outputs": [],
      "execution_count": 34
    },
    {
      "cell_type": "code",
      "source": "",
      "metadata": {},
      "outputs": [
        {
          "data": {
            "text/plain": [
              "['soup', 'salad']"
            ]
          },
          "execution_count": 35,
          "metadata": {},
          "output_type": "execute_result"
        }
      ],
      "execution_count": 35
    },
    {
      "cell_type": "markdown",
      "source": "### Final Problem\n**You are driving a little too fast, and a police officer stops you. Write a function\n  to return one of 3 possible results: \"No ticket\", \"Small ticket\", or \"Big Ticket\". \n  If your speed is 60 or less, the result is \"No Ticket\". If speed is between 61 \n  and 80 inclusive, the result is \"Small Ticket\". If speed is 81 or more, the result is \"Big    Ticket\". Unless it is your birthday (encoded as a boolean value in the parameters of the function) -- on your birthday, your speed can be 5 higher in all \n  cases. **",
      "metadata": {}
    },
    {
      "cell_type": "code",
      "source": "def caught_speeding(speed, is_birthday):\n    if is_birthday:\n        speed -= 5\n    if speed <= 60:\n        return \"No Ticket\"\n    elif 61 <= speed <= 80:\n        return \"Small Ticket\"\n    else:\n        return \"Big Ticket\"",
      "metadata": {
        "trusted": true
      },
      "outputs": [],
      "execution_count": 25
    },
    {
      "cell_type": "code",
      "source": "caught_speeding(81,True)",
      "metadata": {
        "trusted": true
      },
      "outputs": [
        {
          "execution_count": 26,
          "output_type": "execute_result",
          "data": {
            "text/plain": "'Small Ticket'"
          },
          "metadata": {}
        }
      ],
      "execution_count": 26
    },
    {
      "cell_type": "code",
      "source": "caught_speeding(81,False)",
      "metadata": {
        "trusted": true
      },
      "outputs": [
        {
          "execution_count": 27,
          "output_type": "execute_result",
          "data": {
            "text/plain": "'Big Ticket'"
          },
          "metadata": {}
        }
      ],
      "execution_count": 27
    },
    {
      "cell_type": "code",
      "source": "caught_speeding(50,True)",
      "metadata": {
        "trusted": true
      },
      "outputs": [
        {
          "execution_count": 30,
          "output_type": "execute_result",
          "data": {
            "text/plain": "'No Ticket'"
          },
          "metadata": {}
        }
      ],
      "execution_count": 30
    },
    {
      "cell_type": "markdown",
      "source": "# Great job!",
      "metadata": {}
    }
  ]
}